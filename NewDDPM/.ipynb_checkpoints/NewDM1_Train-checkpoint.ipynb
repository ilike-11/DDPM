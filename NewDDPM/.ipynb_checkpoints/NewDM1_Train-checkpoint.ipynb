{
 "cells": [
  {
   "cell_type": "markdown",
   "id": "1ddd8d9b-276b-4e88-b839-7b3fe92caa11",
   "metadata": {},
   "source": [
    "1、安装扩散器库"
   ]
  },
  {
   "cell_type": "code",
   "execution_count": null,
   "id": "ed86cc26-8d87-4ab2-b6bc-eb8fb8b9cea5",
   "metadata": {},
   "outputs": [],
   "source": []
  },
  {
   "cell_type": "markdown",
   "id": "068d1cdc-46ee-4e1e-88dd-c3be69455569",
   "metadata": {},
   "source": [
    "2、下载数据集"
   ]
  },
  {
   "cell_type": "code",
   "execution_count": null,
   "id": "9cf6fb89-0ed0-4ee9-aaad-1fe78ea92d1b",
   "metadata": {},
   "outputs": [],
   "source": []
  },
  {
   "cell_type": "markdown",
   "id": "8d03496a-233e-4a5f-b34a-363c321d0f55",
   "metadata": {},
   "source": [
    "3、定义调度程序：\n",
    "    为输入图片添加噪声、将噪声图片输入模型中。在推理过程中，使用模型预测迭代地去除噪声"
   ]
  },
  {
   "cell_type": "code",
   "execution_count": null,
   "id": "046b4895-8de2-417b-8bfb-317f9cca46aa",
   "metadata": {},
   "outputs": [],
   "source": []
  },
  {
   "cell_type": "markdown",
   "id": "e3dfe0c1-d1ea-47bc-a5ab-a8a67a96f773",
   "metadata": {},
   "source": [
    "4、定义模型：\n",
    "    Unet：下采样+中间层+上采样(ResNet层，图像大小减半，内含跳转连接结构)，预测与输入相同大小的图片\n",
    "    U-Net 可以被调整和扩展以适应不同的图像识别任务，例如通过修改网络的深度、宽度或跳跃连接的方式。\n",
    "    ResNet：即残差网络（Residual Network），是一种用于图像识别和其他视觉任务的深度卷积神经网络，它通过引入残差学习框架来解决深度网络训练中的退化问题。"
   ]
  },
  {
   "cell_type": "code",
   "execution_count": 1,
   "id": "7a5636e1-9a04-403c-baa1-fc2b79fe50c4",
   "metadata": {},
   "outputs": [
    {
     "ename": "ModuleNotFoundError",
     "evalue": "No module named 'diffusers'",
     "output_type": "error",
     "traceback": [
      "\u001b[1;31m---------------------------------------------------------------------------\u001b[0m",
      "\u001b[1;31mModuleNotFoundError\u001b[0m                       Traceback (most recent call last)",
      "Cell \u001b[1;32mIn[1], line 1\u001b[0m\n\u001b[1;32m----> 1\u001b[0m \u001b[38;5;28;01mfrom\u001b[39;00m \u001b[38;5;21;01mdiffusers\u001b[39;00m \u001b[38;5;28;01mimport\u001b[39;00m UNet2DModel\n",
      "\u001b[1;31mModuleNotFoundError\u001b[0m: No module named 'diffusers'"
     ]
    }
   ],
   "source": [
    "from diffusers import UNet2DModel"
   ]
  },
  {
   "cell_type": "markdown",
   "id": "b486a6c2-fc08-4c79-ae74-5954050eedce",
   "metadata": {},
   "source": [
    "处理更高分辨率的输入时，您可能需要使用更多的向下和向上块，并将注意力层仅保持在最低分辨率（底部）层以减少内存使用量。"
   ]
  },
  {
   "cell_type": "markdown",
   "id": "8530db50-09bb-4a9a-b18c-4798f1c6b784",
   "metadata": {},
   "source": [
    "5、创建训练循环（训练模型/优化模型参数）\n",
    "    对于每一批数据，我们：\n",
    "        \r\n",
    "采样一些随机时间步        长\r\n",
    "相应地对数据进行噪声        处理\r\n",
    "将噪声数据输        入模型\r\n",
    "使用均方误差作为损失函数，将模型预测与目标（即本例中的噪声）        进行比较\r\n",
    "loss.backward()通过和更新模型参数optimizer.\n",
    "    （在此过程中，我们还会记录一段时间内的损失，以供日后绘制图表。）step()"
   ]
  },
  {
   "cell_type": "code",
   "execution_count": null,
   "id": "5605d0b3-ab78-4759-a0cc-39e1a78c6363",
   "metadata": {},
   "outputs": [],
   "source": []
  },
  {
   "cell_type": "markdown",
   "id": "d012475f-e545-4436-905b-49e480bf9f38",
   "metadata": {},
   "source": [
    "6、生成图像"
   ]
  },
  {
   "cell_type": "code",
   "execution_count": 2,
   "id": "a44be381-59b2-4a5a-9438-a7c45418c487",
   "metadata": {},
   "outputs": [
    {
     "name": "stdout",
     "output_type": "stream",
     "text": [
      "Note: you may need to restart the kernel to use updated packages.\n"
     ]
    }
   ],
   "source": [
    "\"\"\"\n",
    "扩散器\n",
    "\"\"\"\n",
    "%pip install -q diffusers"
   ]
  },
  {
   "cell_type": "code",
   "execution_count": 3,
   "id": "985d3ab7-1dde-4d29-919a-b4444c4b9364",
   "metadata": {},
   "outputs": [
    {
     "name": "stdout",
     "output_type": "stream",
     "text": [
      "Using device: cpu\n"
     ]
    }
   ],
   "source": [
    "\"\"\"\n",
    "导入库：\n",
    "    torch 是 PyTorch 的核心库，提供了张量操作、自动微分等功能。\n",
    "    nn 是 PyTorch 的神经网络模块，包含了构建神经网络所需的类和函数。\n",
    "    F 是 PyTorch 的函数式接口，提供了一些常用的神经网络函数，如激活函数和损失函数。\n",
    "    DataLoader 是 PyTorch 中用于加载数据集的类，它可以批量地、随机地加载数据，并且支持多线程加载。\n",
    "    DDPMScheduler 是一个调度器，用于控制扩散模型中的噪声添加和去除过程。\n",
    "    UNet2DModel 是一个2D U-Net 模型，常用于图像生成和处理任务。\n",
    "    plt 是 Matplotlib 的 pyplot 模块，用于绘制图表和图像。\n",
    "    torch.device 用于指定计算设备，如果系统支持 CUDA（即有 NVIDIA GPU），则使用 GPU 进行计算，否则使用 CPU。\n",
    "\"\"\"\n",
    "import torch\n",
    "import torchvision\n",
    "from torch import nn\n",
    "from torch.nn import functional as F\n",
    "from torch.utils.data import DataLoader\n",
    "from diffusers import DDPMScheduler, UNet2DModel\n",
    "from matplotlib import pyplot as plt\n",
    "\n",
    "device = torch.device(\"cuda\" if torch.cuda.is_available() else \"cpu\")\n",
    "print(f'Using device: {device}')"
   ]
  },
  {
   "cell_type": "code",
   "execution_count": 5,
   "id": "150c0ae3-edf3-406a-9d97-0b6fd9b9e839",
   "metadata": {},
   "outputs": [
    {
     "name": "stdout",
     "output_type": "stream",
     "text": [
      "(tensor([[[0.0000, 0.0000, 0.0000, 0.0000, 0.0000, 0.0000, 0.0000, 0.0000,\n",
      "          0.0000, 0.0000, 0.0000, 0.0000, 0.0000, 0.0000, 0.0000, 0.0000,\n",
      "          0.0000, 0.0000, 0.0000, 0.0000, 0.0000, 0.0000, 0.0000, 0.0000,\n",
      "          0.0000, 0.0000, 0.0000, 0.0000],\n",
      "         [0.0000, 0.0000, 0.0000, 0.0000, 0.0000, 0.0000, 0.0000, 0.0000,\n",
      "          0.0000, 0.0000, 0.0000, 0.0000, 0.0000, 0.0000, 0.0000, 0.0000,\n",
      "          0.0000, 0.0000, 0.0000, 0.0000, 0.0000, 0.0000, 0.0000, 0.0000,\n",
      "          0.0000, 0.0000, 0.0000, 0.0000],\n",
      "         [0.0000, 0.0000, 0.0000, 0.0000, 0.0000, 0.0000, 0.0000, 0.0000,\n",
      "          0.0000, 0.0000, 0.0000, 0.0000, 0.0000, 0.0000, 0.0000, 0.0000,\n",
      "          0.0000, 0.0000, 0.0000, 0.0000, 0.0000, 0.0000, 0.0000, 0.0000,\n",
      "          0.0000, 0.0000, 0.0000, 0.0000],\n",
      "         [0.0000, 0.0000, 0.0000, 0.0000, 0.0000, 0.0000, 0.0000, 0.0000,\n",
      "          0.0000, 0.0000, 0.0000, 0.0000, 0.0000, 0.0000, 0.0000, 0.0000,\n",
      "          0.0000, 0.0000, 0.0000, 0.0000, 0.0000, 0.0000, 0.0000, 0.0000,\n",
      "          0.0000, 0.0000, 0.0000, 0.0000],\n",
      "         [0.0000, 0.0000, 0.0000, 0.0000, 0.0000, 0.0000, 0.0000, 0.0000,\n",
      "          0.0000, 0.0000, 0.0000, 0.0000, 0.0000, 0.0000, 0.0000, 0.0000,\n",
      "          0.0000, 0.0000, 0.0000, 0.0000, 0.0000, 0.0000, 0.0000, 0.0000,\n",
      "          0.0000, 0.0000, 0.0000, 0.0000],\n",
      "         [0.0000, 0.0000, 0.0000, 0.0000, 0.0000, 0.0000, 0.0000, 0.0000,\n",
      "          0.0000, 0.0000, 0.0000, 0.0000, 0.0118, 0.0706, 0.0706, 0.0706,\n",
      "          0.4941, 0.5333, 0.6863, 0.1020, 0.6510, 1.0000, 0.9686, 0.4980,\n",
      "          0.0000, 0.0000, 0.0000, 0.0000],\n",
      "         [0.0000, 0.0000, 0.0000, 0.0000, 0.0000, 0.0000, 0.0000, 0.0000,\n",
      "          0.1176, 0.1412, 0.3686, 0.6039, 0.6667, 0.9922, 0.9922, 0.9922,\n",
      "          0.9922, 0.9922, 0.8824, 0.6745, 0.9922, 0.9490, 0.7647, 0.2510,\n",
      "          0.0000, 0.0000, 0.0000, 0.0000],\n",
      "         [0.0000, 0.0000, 0.0000, 0.0000, 0.0000, 0.0000, 0.0000, 0.1922,\n",
      "          0.9333, 0.9922, 0.9922, 0.9922, 0.9922, 0.9922, 0.9922, 0.9922,\n",
      "          0.9922, 0.9843, 0.3647, 0.3216, 0.3216, 0.2196, 0.1529, 0.0000,\n",
      "          0.0000, 0.0000, 0.0000, 0.0000],\n",
      "         [0.0000, 0.0000, 0.0000, 0.0000, 0.0000, 0.0000, 0.0000, 0.0706,\n",
      "          0.8588, 0.9922, 0.9922, 0.9922, 0.9922, 0.9922, 0.7765, 0.7137,\n",
      "          0.9686, 0.9451, 0.0000, 0.0000, 0.0000, 0.0000, 0.0000, 0.0000,\n",
      "          0.0000, 0.0000, 0.0000, 0.0000],\n",
      "         [0.0000, 0.0000, 0.0000, 0.0000, 0.0000, 0.0000, 0.0000, 0.0000,\n",
      "          0.3137, 0.6118, 0.4196, 0.9922, 0.9922, 0.8039, 0.0431, 0.0000,\n",
      "          0.1686, 0.6039, 0.0000, 0.0000, 0.0000, 0.0000, 0.0000, 0.0000,\n",
      "          0.0000, 0.0000, 0.0000, 0.0000],\n",
      "         [0.0000, 0.0000, 0.0000, 0.0000, 0.0000, 0.0000, 0.0000, 0.0000,\n",
      "          0.0000, 0.0549, 0.0039, 0.6039, 0.9922, 0.3529, 0.0000, 0.0000,\n",
      "          0.0000, 0.0000, 0.0000, 0.0000, 0.0000, 0.0000, 0.0000, 0.0000,\n",
      "          0.0000, 0.0000, 0.0000, 0.0000],\n",
      "         [0.0000, 0.0000, 0.0000, 0.0000, 0.0000, 0.0000, 0.0000, 0.0000,\n",
      "          0.0000, 0.0000, 0.0000, 0.5451, 0.9922, 0.7451, 0.0078, 0.0000,\n",
      "          0.0000, 0.0000, 0.0000, 0.0000, 0.0000, 0.0000, 0.0000, 0.0000,\n",
      "          0.0000, 0.0000, 0.0000, 0.0000],\n",
      "         [0.0000, 0.0000, 0.0000, 0.0000, 0.0000, 0.0000, 0.0000, 0.0000,\n",
      "          0.0000, 0.0000, 0.0000, 0.0431, 0.7451, 0.9922, 0.2745, 0.0000,\n",
      "          0.0000, 0.0000, 0.0000, 0.0000, 0.0000, 0.0000, 0.0000, 0.0000,\n",
      "          0.0000, 0.0000, 0.0000, 0.0000],\n",
      "         [0.0000, 0.0000, 0.0000, 0.0000, 0.0000, 0.0000, 0.0000, 0.0000,\n",
      "          0.0000, 0.0000, 0.0000, 0.0000, 0.1373, 0.9451, 0.8824, 0.6275,\n",
      "          0.4235, 0.0039, 0.0000, 0.0000, 0.0000, 0.0000, 0.0000, 0.0000,\n",
      "          0.0000, 0.0000, 0.0000, 0.0000],\n",
      "         [0.0000, 0.0000, 0.0000, 0.0000, 0.0000, 0.0000, 0.0000, 0.0000,\n",
      "          0.0000, 0.0000, 0.0000, 0.0000, 0.0000, 0.3176, 0.9412, 0.9922,\n",
      "          0.9922, 0.4667, 0.0980, 0.0000, 0.0000, 0.0000, 0.0000, 0.0000,\n",
      "          0.0000, 0.0000, 0.0000, 0.0000],\n",
      "         [0.0000, 0.0000, 0.0000, 0.0000, 0.0000, 0.0000, 0.0000, 0.0000,\n",
      "          0.0000, 0.0000, 0.0000, 0.0000, 0.0000, 0.0000, 0.1765, 0.7294,\n",
      "          0.9922, 0.9922, 0.5882, 0.1059, 0.0000, 0.0000, 0.0000, 0.0000,\n",
      "          0.0000, 0.0000, 0.0000, 0.0000],\n",
      "         [0.0000, 0.0000, 0.0000, 0.0000, 0.0000, 0.0000, 0.0000, 0.0000,\n",
      "          0.0000, 0.0000, 0.0000, 0.0000, 0.0000, 0.0000, 0.0000, 0.0627,\n",
      "          0.3647, 0.9882, 0.9922, 0.7333, 0.0000, 0.0000, 0.0000, 0.0000,\n",
      "          0.0000, 0.0000, 0.0000, 0.0000],\n",
      "         [0.0000, 0.0000, 0.0000, 0.0000, 0.0000, 0.0000, 0.0000, 0.0000,\n",
      "          0.0000, 0.0000, 0.0000, 0.0000, 0.0000, 0.0000, 0.0000, 0.0000,\n",
      "          0.0000, 0.9765, 0.9922, 0.9765, 0.2510, 0.0000, 0.0000, 0.0000,\n",
      "          0.0000, 0.0000, 0.0000, 0.0000],\n",
      "         [0.0000, 0.0000, 0.0000, 0.0000, 0.0000, 0.0000, 0.0000, 0.0000,\n",
      "          0.0000, 0.0000, 0.0000, 0.0000, 0.0000, 0.0000, 0.1804, 0.5098,\n",
      "          0.7176, 0.9922, 0.9922, 0.8118, 0.0078, 0.0000, 0.0000, 0.0000,\n",
      "          0.0000, 0.0000, 0.0000, 0.0000],\n",
      "         [0.0000, 0.0000, 0.0000, 0.0000, 0.0000, 0.0000, 0.0000, 0.0000,\n",
      "          0.0000, 0.0000, 0.0000, 0.0000, 0.1529, 0.5804, 0.8980, 0.9922,\n",
      "          0.9922, 0.9922, 0.9804, 0.7137, 0.0000, 0.0000, 0.0000, 0.0000,\n",
      "          0.0000, 0.0000, 0.0000, 0.0000],\n",
      "         [0.0000, 0.0000, 0.0000, 0.0000, 0.0000, 0.0000, 0.0000, 0.0000,\n",
      "          0.0000, 0.0000, 0.0941, 0.4471, 0.8667, 0.9922, 0.9922, 0.9922,\n",
      "          0.9922, 0.7882, 0.3059, 0.0000, 0.0000, 0.0000, 0.0000, 0.0000,\n",
      "          0.0000, 0.0000, 0.0000, 0.0000],\n",
      "         [0.0000, 0.0000, 0.0000, 0.0000, 0.0000, 0.0000, 0.0000, 0.0000,\n",
      "          0.0902, 0.2588, 0.8353, 0.9922, 0.9922, 0.9922, 0.9922, 0.7765,\n",
      "          0.3176, 0.0078, 0.0000, 0.0000, 0.0000, 0.0000, 0.0000, 0.0000,\n",
      "          0.0000, 0.0000, 0.0000, 0.0000],\n",
      "         [0.0000, 0.0000, 0.0000, 0.0000, 0.0000, 0.0000, 0.0706, 0.6706,\n",
      "          0.8588, 0.9922, 0.9922, 0.9922, 0.9922, 0.7647, 0.3137, 0.0353,\n",
      "          0.0000, 0.0000, 0.0000, 0.0000, 0.0000, 0.0000, 0.0000, 0.0000,\n",
      "          0.0000, 0.0000, 0.0000, 0.0000],\n",
      "         [0.0000, 0.0000, 0.0000, 0.0000, 0.2157, 0.6745, 0.8863, 0.9922,\n",
      "          0.9922, 0.9922, 0.9922, 0.9569, 0.5216, 0.0431, 0.0000, 0.0000,\n",
      "          0.0000, 0.0000, 0.0000, 0.0000, 0.0000, 0.0000, 0.0000, 0.0000,\n",
      "          0.0000, 0.0000, 0.0000, 0.0000],\n",
      "         [0.0000, 0.0000, 0.0000, 0.0000, 0.5333, 0.9922, 0.9922, 0.9922,\n",
      "          0.8314, 0.5294, 0.5176, 0.0627, 0.0000, 0.0000, 0.0000, 0.0000,\n",
      "          0.0000, 0.0000, 0.0000, 0.0000, 0.0000, 0.0000, 0.0000, 0.0000,\n",
      "          0.0000, 0.0000, 0.0000, 0.0000],\n",
      "         [0.0000, 0.0000, 0.0000, 0.0000, 0.0000, 0.0000, 0.0000, 0.0000,\n",
      "          0.0000, 0.0000, 0.0000, 0.0000, 0.0000, 0.0000, 0.0000, 0.0000,\n",
      "          0.0000, 0.0000, 0.0000, 0.0000, 0.0000, 0.0000, 0.0000, 0.0000,\n",
      "          0.0000, 0.0000, 0.0000, 0.0000],\n",
      "         [0.0000, 0.0000, 0.0000, 0.0000, 0.0000, 0.0000, 0.0000, 0.0000,\n",
      "          0.0000, 0.0000, 0.0000, 0.0000, 0.0000, 0.0000, 0.0000, 0.0000,\n",
      "          0.0000, 0.0000, 0.0000, 0.0000, 0.0000, 0.0000, 0.0000, 0.0000,\n",
      "          0.0000, 0.0000, 0.0000, 0.0000],\n",
      "         [0.0000, 0.0000, 0.0000, 0.0000, 0.0000, 0.0000, 0.0000, 0.0000,\n",
      "          0.0000, 0.0000, 0.0000, 0.0000, 0.0000, 0.0000, 0.0000, 0.0000,\n",
      "          0.0000, 0.0000, 0.0000, 0.0000, 0.0000, 0.0000, 0.0000, 0.0000,\n",
      "          0.0000, 0.0000, 0.0000, 0.0000]]]), 5)\n"
     ]
    }
   ],
   "source": [
    "\"\"\"\n",
    "mnist数据集：\n",
    "\"\"\"\n",
    "dataset = torchvision.datasets.MNIST(r\"C:\\Users\\honor\\Desktop\\Python入门\\模型\\ddpm\\data\",\n",
    "                                     train=True, \n",
    "                                     download=False, \n",
    "                                     transform=torchvision.transforms.ToTensor())\n",
    "print(dataset[0])"
   ]
  },
  {
   "cell_type": "code",
   "execution_count": 6,
   "id": "f1266994-18cb-44c2-a2a6-c74127bbceb9",
   "metadata": {},
   "outputs": [
    {
     "name": "stdout",
     "output_type": "stream",
     "text": [
      "Input shape: torch.Size([8, 1, 28, 28])\n",
      "Labels: tensor([4, 1, 2, 0, 9, 8, 4, 0])\n"
     ]
    },
    {
     "data": {
      "image/png": "[encoded data removed]",
      "text/plain": [
       "<Figure size 640x480 with 1 Axes>"
      ]
     },
     "metadata": {},
     "output_type": "display_data"
    }
   ],
   "source": [
    "\"\"\"\n",
    "    数据集可视化：\n",
    "    使用 PyTorch 的 DataLoader 类来创建一个数据加载器，它负责在训练过程中将数据批量地、随机地加载到模型中。\n",
    "    batch_size=8：指定每个批次的大小为8，意味着每次迭代将从数据集中加载8个样本。\n",
    "    shuffle=True：设置为 True 表示在每个epoch开始时，数据集中的样本将被打乱。这有助于模型训练时的泛化能力，因为它确保了模型不会记住特定顺序的样本。\n",
    "    DataLoader 对象 train_dataloader 将被用于训练循环中，通过迭代它来获取批次数据，并将这些数据输入到模型中进行训练。\n",
    "每次迭代时，DataLoader 会从 dataset 中取出一个批次的数据，并将其打包成一个批次，然后你可以在模型中使用这些数据进行前向传播、计算损失、反向传播和参数更新。\n",
    "\"\"\"\n",
    "train_dataloader = DataLoader(dataset, batch_size=8, shuffle=True)\n",
    "\n",
    "x, y = next(iter(train_dataloader)) #x 和 y 分别存储这批数据的输入图像和对应的标签。\n",
    "print('Input shape:', x.shape)\n",
    "print('Labels:', y)\n",
    "plt.imshow(torchvision.utils.make_grid(x)[0], cmap='Greys'); #将批次中的所有图像拼接成一个大图像"
   ]
  },
  {
   "cell_type": "code",
   "execution_count": 7,
   "id": "878099ad-0cf9-436e-ba8f-97289e17859b",
   "metadata": {},
   "outputs": [
    {
     "name": "stdout",
     "output_type": "stream",
     "text": [
      "Input shape: torch.Size([8, 1, 28, 28])\n",
      "Labels: tensor([3, 6, 6, 1, 5, 1, 2, 5])\n"
     ]
    },
    {
     "data": {
      "image/png": "[encoded data removed]",
      "text/plain": [
       "<Figure size 800x800 with 1 Axes>"
      ]
     },
     "metadata": {},
     "output_type": "display_data"
    },
    {
     "data": {
      "image/png": "[encoded data removed]",
      "text/plain": [
       "<Figure size 800x200 with 1 Axes>"
      ]
     },
     "metadata": {},
     "output_type": "display_data"
    }
   ],
   "source": [
    "\"\"\"\n",
    "    （同上）数据集可视化：\n",
    "    matplotlib 是一个用于创建静态、交互式和动画可视化的Python库\n",
    "    pyplot 是 matplotlib 的一个模块，它提供了一个类似于 MATLAB 的绘图框架\n",
    "    torchvision 是 PyTorch 的一个库，提供了处理图像和视频的常用工具和数据集。\n",
    "    utils 模块包含了一些额外的工具和实用函数，例如 make_grid，这个函数可以将多个图像拼接成一个网格，便于同时展示多个图像。\n",
    "    make_grid 函数通常用于将一批图像组合成单个图像，这样可以在一张图上展示多个图像，方便比较和展示\n",
    "\"\"\"\n",
    "import matplotlib.pyplot as plt\n",
    "import torchvision.utils\n",
    "\n",
    "# 获取一批数据\n",
    "x, y = next(iter(train_dataloader))\n",
    "\n",
    "# 打印输入图像的形状\n",
    "print('Input shape:', x.shape)\n",
    "\n",
    "# 打印标签\n",
    "print('Labels:', y)\n",
    "\n",
    "# 显示图像\n",
    "grid = torchvision.utils.make_grid(x)\n",
    "plt.figure(figsize=(8, 8))\n",
    "plt.imshow(grid.permute(1, 2, 0).cpu().numpy())\n",
    "plt.title('Batch Images')\n",
    "plt.axis('off')\n",
    "plt.show()\n",
    "\n",
    "# 显示标签\n",
    "plt.figure(figsize=(8, 2))\n",
    "plt.bar(range(len(y)), y)\n",
    "plt.xlabel('Sample Index')\n",
    "plt.ylabel('Label')\n",
    "plt.title('Labels Distribution')\n",
    "plt.show()"
   ]
  },
  {
   "cell_type": "code",
   "execution_count": 8,
   "id": "5ac27824-fc0b-42e1-803d-4f38f70a98bc",
   "metadata": {},
   "outputs": [
    {
     "data": {
      "image/png": "[encoded data removed]",
      "text/plain": [
       "<Figure size 1200x500 with 2 Axes>"
      ]
     },
     "metadata": {},
     "output_type": "display_data"
    }
   ],
   "source": [
    "\"\"\"\n",
    "扩散过程：\n",
    "    amount为控制噪声的比例，x为输入原图\n",
    "\"\"\"\n",
    "amount = 0\n",
    "noise = torch.rand_like(x) #生成一个与 x 形状相同的随机噪声张量\n",
    "noisy_x = (1-amount)*x + amount*noise\n",
    "\n",
    "#输入x和扩散量，返回原图x与噪声混合结果\n",
    "def corrupt(x, amount):\n",
    "  noise = torch.rand_like(x)\n",
    "  amount = amount.view(-1, 1, 1, 1) # 调整 amount 的形状，使其可以与 x 进行广播操作ks\n",
    "  return x*(1-amount) + noise*amount \n",
    "\n",
    "\"\"\"\n",
    "Adding noise\n",
    "生成一个从0到1的线性间隔的张量，长度等于 x 的批次大小，从左到右逐渐增加。\n",
    "\"\"\"\n",
    "amount = torch.linspace(0, 1, x.shape[0]) # Left to right -> more corruption\n",
    "noised_x = corrupt(x, amount)\n",
    "\n",
    "# 可视化输入图像\n",
    "fig, axs = plt.subplots(2, 1, figsize=(12, 5))\n",
    "axs[0].set_title('Input data')\n",
    "axs[0].imshow(torchvision.utils.make_grid(x)[0], cmap='Greys')\n",
    "# 可视化添加噪声的图像\n",
    "axs[1].set_title('Corrupted data (-- amount increases -->)')\n",
    "axs[1].imshow(torchvision.utils.make_grid(noised_x)[0], cmap='Greys');"
   ]
  },
  {
   "cell_type": "code",
   "execution_count": 9,
   "id": "807c4235-1555-4451-835c-defa11dde22b",
   "metadata": {},
   "outputs": [
    {
     "data": {
      "text/plain": [
       "torch.Size([8, 1, 28, 28])"
      ]
     },
     "execution_count": 9,
     "metadata": {},
     "output_type": "execute_result"
    }
   ],
   "source": [
    "\"\"\"\n",
    "    BasicUNet模型：\n",
    "    A minimal Unet模型：允许它接收一个28x28像素的图像\n",
    "    通过下采样提取特征，然后通过上采样重建图像，最终输出一个与输入相同尺寸的图像。\n",
    "    定义了一个名为 BasicUNet 的类，它继承自 nn.Module，是 PyTorch 中所有神经网络模型的基类\n",
    "    下采样层：3个卷积层\n",
    "\"\"\"\n",
    "class BasicUNet(nn.Module):\n",
    "    def __init__(self, in_channels=1, out_channels=1):\n",
    "        super().__init__()\n",
    "        self.down_layers = torch.nn.ModuleList([ #下采样层：三层卷积\n",
    "            nn.Conv2d(in_channels, 32, kernel_size=5, padding=2),\n",
    "            nn.Conv2d(32, 64, kernel_size=5, padding=2),\n",
    "            nn.Conv2d(64, 64, kernel_size=5, padding=2),\n",
    "        ])\n",
    "        self.up_layers = torch.nn.ModuleList([ #上采样层：三层卷积\n",
    "            nn.Conv2d(64, 64, kernel_size=5, padding=2),\n",
    "            nn.Conv2d(64, 32, kernel_size=5, padding=2),\n",
    "            nn.Conv2d(32, out_channels, kernel_size=5, padding=2), \n",
    "        ])\n",
    "        self.act = nn.SiLU() # 激活函数：SiLU（Sigmoid Linear Unit）\n",
    "        self.downscale = nn.MaxPool2d(2) #最大池化进行下采样\n",
    "        self.upscale = nn.Upsample(scale_factor=2) #上采样，放大因子为2\n",
    "    \"\"\"\n",
    "    前向传播：\n",
    "    初始化一个空列表 h，用于存储下采样过程中的特征图，以便后续在上采样过程中使用\n",
    "    遍历下采样层，对每个层应用卷积和激活函数，除了最后一层外，每层的输出都被存储在 h 列表中，并进行下采样\n",
    "    遍历上采样层，对每个层应用上采样、跳跃连接（将下采样过程中存储的特征图加回来）和激活函数\n",
    "    \"\"\"\n",
    "    def forward(self, x):\n",
    "        h = [] \n",
    "        #遍历下采样\n",
    "        for i, l in enumerate(self.down_layers):\n",
    "            x = self.act(l(x)) # Through the layer and the activation function\n",
    "            if i < 2: # For all but the third (final) down layer:\n",
    "              h.append(x) # Storing output for skip connection\n",
    "              x = self.downscale(x) # Downscale ready for the next layer\n",
    "        #遍历上采样    \n",
    "        for i, l in enumerate(self.up_layers):\n",
    "            if i > 0: # For all except the first up layer\n",
    "              x = self.upscale(x) # Upscale\n",
    "              x += h.pop() # Fetching stored output (skip connection)\n",
    "            x = self.act(l(x)) # Through the layer and the activation function\n",
    "            \n",
    "        return x\n",
    "\n",
    "#验证输出图像大小\n",
    "net = BasicUNet()\n",
    "x = torch.rand(8, 1, 28, 28)\n",
    "net(x).shape"
   ]
  },
  {
   "cell_type": "code",
   "execution_count": 10,
   "id": "c52ca6fb-b87a-4639-abd9-19d5cdae6356",
   "metadata": {},
   "outputs": [
    {
     "data": {
      "text/plain": [
       "309057"
      ]
     },
     "execution_count": 10,
     "metadata": {},
     "output_type": "execute_result"
    }
   ],
   "source": [
    "#打印模型参数\n",
    "sum([p.numel() for p in net.parameters()])"
   ]
  },
  {
   "cell_type": "code",
   "execution_count": null,
   "id": "837b7285-464a-4e6a-a23a-1b669e689ab8",
   "metadata": {},
   "outputs": [],
   "source": [
    "\"\"\"\n",
    "    训练网络：\n",
    "    给定一个损坏的输入 noisy_x，模型应该输出对原始 x 的最佳猜测。我们将通过均方误差将其与实际值进行比较。\n",
    "获取一批数据\n",
    "用随机数量破坏它\n",
    "将其送入模型\n",
    "将模型预测与干净的图像进行比较以计算我们的损失\n",
    "相应地更新模型的参数。\n",
    "\"\"\"\n",
    "# Dataloader (you can mess with batch size)\n",
    "batch_size = 128 #每个批次包含128个样本\n",
    "train_dataloader = DataLoader(dataset, batch_size=batch_size, shuffle=True)\n",
    "\n",
    "# How many runs through the data should we do?\n",
    "#训练的轮数（epochs），即整个数据集将被遍历多少次。这里设置了3个epochs\n",
    "n_epochs = 1\n",
    "\n",
    "# Create the network\n",
    "net = BasicUNet()\n",
    "net.to(device)\n",
    "\n",
    "# Our loss function\n",
    "#定义了损失函数，使用 PyTorch 的 MSELoss，它计算预测值和真实值之间的均方误差。\n",
    "loss_fn = nn.MSELoss()\n",
    "\n",
    "# The optimizer\n",
    "#定义了优化器，使用 Adam 算法，学习率设置为0.001。优化器用于在训练过程中更新模型的参数\n",
    "opt = torch.optim.Adam(net.parameters(), lr=1e-3) \n",
    "\n",
    "# Keeping a record of the losses for later viewing\n",
    "#初始化了一个空列表 losses，用于存储每个批次的损失值，以便后续分析和可视化。\n",
    "losses = []\n",
    "\"\"\"\n",
    "The training loop:\n",
    "    循环开始了训练过程，它将遍历每个epoch。range(n_epochs) 生成一个从0到 n_epochs-1 的序列\n",
    "    遍历 train_dataloader 中的每个批次。x 是图像数据，y 是对应的标签，本例中我们只关心图像数据 x\n",
    "    为批次中的每个样本生成一个随机的噪声量，并将这些噪声量移动到指定的设备\n",
    "    使用 corrupt 函数将随机噪声添加到数据 x 中，创建损坏的版本 noisy_x\n",
    "    将加噪数据 noisy_x 输入到模型 net 中，得到模型的预测 pred\n",
    "    计算模型预测 pred 和原始数据 x 之间的均方误差损失\n",
    "    opt.zero_grad() 清空之前的梯度。\n",
    "    loss.backward() 计算损失相对于模型参数的梯度。\n",
    "    opt.step() 根据梯度更新模型的参数。\n",
    "    将当前批次的损失值添加到 losses 列表中，以便后续分析\n",
    "\"\"\"\n",
    "for epoch in range(n_epochs):\n",
    "\n",
    "    for x, y in train_dataloader:\n",
    "\n",
    "        # Get some data and prepare the corrupted version\n",
    "        x = x.to(device) # Data on the GPU\n",
    "        noise_amount = torch.rand(x.shape[0]).to(device) # Pick random noise amounts\n",
    "        noisy_x = corrupt(x, noise_amount) # Create our noisy x\n",
    "\n",
    "        # Get the model prediction\n",
    "        pred = net(noisy_x)\n",
    "\n",
    "        # Calculate the loss\n",
    "        loss = loss_fn(pred, x) # How close is the output to the true 'clean' x?\n",
    "\n",
    "        # Backprop and update the params:\n",
    "        opt.zero_grad()\n",
    "        loss.backward()\n",
    "        opt.step()\n",
    "\n",
    "        # Store the loss for later\n",
    "        losses.append(loss.item())\n",
    "\n",
    "    # Print our the average of the loss values for this epoch:\n",
    "    avg_loss = sum(losses[-len(train_dataloader):])/len(train_dataloader)\n",
    "    print(f'Finished epoch {epoch}. Average loss for this epoch: {avg_loss:05f}')\n",
    "\n",
    "# View the loss curve\n",
    "plt.plot(losses)\n",
    "plt.ylim(0, 0.1);"
   ]
  },
  {
   "cell_type": "code",
   "execution_count": null,
   "id": "eb6449ce-c21c-447f-8405-fd43f700a002",
   "metadata": {},
   "outputs": [],
   "source": [
    "\"\"\"\n",
    "对噪声输入的模型预测进行可视化\n",
    "\"\"\"\n",
    "# Fetch some data\n",
    "x, y = next(iter(train_dataloader))\n",
    "x = x[:8] # Only using the first 8 for easy plotting\n",
    "\n",
    "# Corrupt with a range of amounts\n",
    "#创建一个从0到1的线性间隔的张量 amount，长度等于 x 的批次大小，表示噪声量从无到有\n",
    "amount = torch.linspace(0, 1, x.shape[0]) # Left to right -> more corruption\n",
    "noised_x = corrupt(x, amount)\n",
    "\n",
    "# Get the model predictions\n",
    "#获取模型预测\n",
    "with torch.no_grad():\n",
    "  preds = net(noised_x.to(device)).detach().cpu()\n",
    "\n",
    "# Plot\n",
    "#torchvision.utils.make_grid 函数将多个图像拼接成一个大图像，方便可视化\n",
    "fig, axs = plt.subplots(3, 1, figsize=(12, 7))\n",
    "axs[0].set_title('Input data')\n",
    "axs[0].imshow(torchvision.utils.make_grid(x)[0].clip(0, 1), cmap='Greys')\n",
    "axs[1].set_title('Corrupted data')\n",
    "axs[1].imshow(torchvision.utils.make_grid(noised_x)[0].clip(0, 1), cmap='Greys')\n",
    "axs[2].set_title('Network Predictions')\n",
    "axs[2].imshow(torchvision.utils.make_grid(preds)[0].clip(0, 1), cmap='Greys');"
   ]
  },
  {
   "cell_type": "markdown",
   "id": "709f1ada-846a-4a6d-af7a-5f2a8bf6bba8",
   "metadata": {},
   "source": [
    "？噪声强度越大，越不能预测到结果（amount从0~1）"
   ]
  },
  {
   "cell_type": "code",
   "execution_count": null,
   "id": "ddb73f1a-3d52-43fb-a7af-7790ea2635e9",
   "metadata": {},
   "outputs": [],
   "source": [
    "\"\"\"\n",
    "    采样：\n",
    "    将过程分为 5 个步骤，每次移动 1/5 的距离\n",
    "\"\"\"\n",
    "n_steps = 5\n",
    "x = torch.rand(8, 1, 28, 28).to(device) # Start from random\n",
    "step_history = [x.detach().cpu()]\n",
    "pred_output_history = []\n",
    "#循环 n_steps 次，每次迭代都是一个采样步骤\n",
    "for i in range(n_steps):\n",
    "    with torch.no_grad(): # No need to track gradients during inference\n",
    "        pred = net(x) # Predict the denoised x0\n",
    "    pred_output_history.append(pred.detach().cpu()) #将模型的预测输出添加到 pred_output_history 中\n",
    "    mix_factor = 1/(n_steps - i) #计算混合因子 mix_factor，它决定了在每一步中向模型预测靠近的程度\n",
    "    x = x*(1-mix_factor) + pred*mix_factor #更新 x，使其部分地向模型预测靠近\n",
    "    step_history.append(x.detach().cpu()) # Store step for plotting\n",
    "\n",
    "fig, axs = plt.subplots(n_steps, 2, figsize=(9, 4), sharex=True)\n",
    "axs[0,0].set_title('x (model input)')\n",
    "axs[0,1].set_title('model prediction')\n",
    "for i in range(n_steps):\n",
    "    axs[i, 0].imshow(torchvision.utils.make_grid(step_history[i])[0].clip(0, 1), cmap='Greys')\n",
    "    axs[i, 1].imshow(torchvision.utils.make_grid(pred_output_history[i])[0].clip(0, 1), cmap='Greys')"
   ]
  },
  {
   "cell_type": "code",
   "execution_count": null,
   "id": "4565fe68-f2f5-4328-9e8b-789424b942bc",
   "metadata": {},
   "outputs": [],
   "source": [
    "\"\"\"\n",
    "    同上：\n",
    "使用 40 个采样步骤显示更多结果\n",
    "\"\"\"\n",
    "n_steps = 40\n",
    "x = torch.rand(64, 1, 28, 28).to(device)\n",
    "for i in range(n_steps):\n",
    "  noise_amount = torch.ones((x.shape[0], )).to(device) * (1-(i/n_steps)) # Starting high going low\n",
    "  with torch.no_grad():\n",
    "    pred = net(x)\n",
    "  mix_factor = 1/(n_steps - i)\n",
    "  x = x*(1-mix_factor) + pred*mix_factor\n",
    "fig, ax = plt.subplots(1, 1, figsize=(12, 12))\n",
    "ax.imshow(torchvision.utils.make_grid(x.detach().cpu(), nrow=8)[0].clip(0, 1), cmap='Greys')"
   ]
  },
  {
   "cell_type": "markdown",
   "id": "5773aef3-92a2-4eac-b923-03a83d5c4f5e",
   "metadata": {},
   "source": [
    "1、预测效果不好，或者可以选择更长的训练时间，epoches=10/20，调整模型配置，学习率，优化器...或者更难的数据集FashionMNIST数据集\n",
    "2、扩散器UNet2DModel比我们的 BasicUNet 更先进一些\r\n",
    "腐败过程的处理方式不同\r\n",
    "训练目标不同，涉及预测噪声而不是去噪图像\r\n",
    "该模型通过时间步长条件来调节存在的噪声量，其中 t 作为附加参数传递给前向方法。\r\n",
    "有多种不同的采样策略可供选择，它们应该比我们上面的简单版本效\n",
    "3、Unet2的改进：\n",
    "GroupNorm 将组规范化应用于每个块的输入\r\n",
    "去除层以实现更顺畅的训练\r\n",
    "每个块有多个 resnet 层（如果 layer_per_block 未设置为 1）\r\n",
    "注意（通常仅在较低分辨率块中使用）\r\n",
    "根据时间步长进行调节。\r\n",
    "具有可学习参数的下采样\n",
    "4、训练目标：\n",
    "\n",
    "5、时间步长调节：\n",
    "UNet2DModel接受 x 和时间步（time_steps转换为嵌入，并在多个位置输入到模型中）\n",
    "通过向模型提供有关噪声水平的信息，它可以更好地执行任务。虽然可以在没有这种时间步长条件的情况下训练模型，但它在某些情况下似乎有助于提高性能\n",
    "6、采样：\n",
    "    给定一个估计噪声输入中存在的噪声（或预测去噪版本）的模型，我们如何生成新的图像？\n",
    "根据模型预测采取一些较小的步骤，每次迭代地去除一点噪声:\n",
    "  你应该采取多大的措施？换句话说，你应该遵循什么样的“噪音时间表”？\r",
    "    \n",
    "您是否仅使用模型的当前预测来通知更新步骤（如 DDPM、DDIM 和许多其他方法）？您是否多次评估模型以估计更大、更准确的步骤的高阶梯度（高阶方法和一些离散 O​​DE 求解器）？或者您是否保留过去预测的历史记录以尝试更好地通知当前更新步骤（线性多步骤和祖先采样器）？    \r\n",
    "您是否会添加额外的噪音（有时称为搅动）来为采样过程增加更多随机性（随机性），还是保持其完全确定性？许多采样器使用参数（例如 DDIM 采样器的“eta”）来控制这一点，以便用户可以选择。  和上采样块果更好。"
   ]
  },
  {
   "cell_type": "code",
   "execution_count": null,
   "id": "5ba189cd-69cb-48e9-abc5-5152761f0c00",
   "metadata": {},
   "outputs": [],
   "source": [
    "model = UNet2DModel(\n",
    "    sample_size=28,           # the target image resolution\n",
    "    in_channels=1,            # the number of input channels, 3 for RGB images\n",
    "    out_channels=1,           # the number of output channels\n",
    "    layers_per_block=2,       # how many ResNet layers to use per UNet block\n",
    "    block_out_channels=(32, 64, 64), # Roughly matching our basic unet example\n",
    "    down_block_types=( \n",
    "        \"DownBlock2D\",        # a regular ResNet downsampling block\n",
    "        \"AttnDownBlock2D\",    # a ResNet downsampling block with spatial self-attention\n",
    "        \"AttnDownBlock2D\",\n",
    "    ), \n",
    "    up_block_types=(\n",
    "        \"AttnUpBlock2D\", \n",
    "        \"AttnUpBlock2D\",      # a ResNet upsampling block with spatial self-attention\n",
    "        \"UpBlock2D\",          # a regular ResNet upsampling block\n",
    "      ),\n",
    ")\n",
    "print(model)"
   ]
  },
  {
   "cell_type": "code",
   "execution_count": null,
   "id": "ad4743c1-16da-4a49-a17d-4876fb037636",
   "metadata": {},
   "outputs": [],
   "source": [
    "#模型参数\n",
    "sum([p.numel() for p in model.parameters()]) # 1.7M vs the ~309k parameters of the BasicUNet"
   ]
  },
  {
   "cell_type": "code",
   "execution_count": null,
   "id": "28c056e8-3ae4-415f-ab8c-482065272228",
   "metadata": {},
   "outputs": [],
   "source": [
    "\"\"\"\n",
    "    UNet2DModel模型：深度学习模型进行训练，以及如何可视化训练过程中的损失和生成的样本\n",
    "    \n",
    "\"\"\"\n",
    "# Dataloader (you can mess with batch size)\n",
    "batch_size = 128\n",
    "train_dataloader = DataLoader(dataset, batch_size=batch_size, shuffle=True)#shuffle在每个epoch开始时随机打乱数据次序\n",
    "\n",
    "#训练过程中数据集将被遍历的次数为3\n",
    "n_epochs = 1\n",
    "\n",
    "# Create the network\n",
    "net = UNet2DModel(\n",
    "    sample_size=28,  # the target image resolution\n",
    "    in_channels=1,  # the number of input channels, 3 for RGB images\n",
    "    out_channels=1,  # the number of output channels\n",
    "    layers_per_block=2,  # 指定每个UNet块中使用的ResNet层数\n",
    "    block_out_channels=(32, 64, 64),  # 指定每个块的输出通道数\n",
    "    down_block_types=( \n",
    "        \"DownBlock2D\",  # a regular ResNet downsampling block\n",
    "        \"AttnDownBlock2D\",  # 常规的ResNet块和带有空间自注意力的块\n",
    "        \"AttnDownBlock2D\",\n",
    "    ), \n",
    "    up_block_types=(\n",
    "        \"AttnUpBlock2D\", \n",
    "        \"AttnUpBlock2D\",  # a ResNet upsampling block with spatial self-attention\n",
    "        \"UpBlock2D\",   # a regular ResNet upsampling block\n",
    "      ),\n",
    ") #<<<\n",
    "net.to(device)\n",
    "\n",
    "# Our loss finction\n",
    "loss_fn = nn.MSELoss()\n",
    "\n",
    "# The optimizer\n",
    "opt = torch.optim.Adam(net.parameters(), lr=1e-3) \n",
    "\n",
    "# Keeping a record of the losses for later viewing\n",
    "losses = []\n",
    "\n",
    "# 训练循环\n",
    "for epoch in range(n_epochs):\n",
    "\n",
    "    for x, y in train_dataloader:\n",
    "        \n",
    "        # Get some data and prepare the corrupted version\n",
    "        x = x.to(device) # Data on the GPU\n",
    "        noise_amount = torch.rand(x.shape[0]).to(device) # 为每个样本生成随机的噪声量\n",
    "        noisy_x = corrupt(x, noise_amount) # Create our noisy x\n",
    "\n",
    "        # 使用模型对损坏的输入进行预测\n",
    "        pred = net(noisy_x, 0).sample #<<< Using timestep 0 always, adding .sample\n",
    "\n",
    "        #计算预测结果与原始数据之间的MSE损失\n",
    "        loss = loss_fn(pred, x) # How close is the output to the true 'clean' x?\n",
    "\n",
    "        # Backprop and update the params:\n",
    "        #清空梯度，执行反向传播，更新模型参数\n",
    "        opt.zero_grad()\n",
    "        loss.backward()\n",
    "        opt.step()\n",
    "\n",
    "        # Store the loss for later\n",
    "        losses.append(loss.item())\n",
    "\n",
    "    # Print our the average of the loss values for this epoch:\n",
    "    avg_loss = sum(losses[-len(train_dataloader):])/len(train_dataloader)\n",
    "    print(f'Finished epoch {epoch}. Average loss for this epoch: {avg_loss:05f}')\n",
    "\n",
    "# Plot losses and some samples\n",
    "fig, axs = plt.subplots(1, 2, figsize=(12, 5))\n",
    "\n",
    "# Losses可视化化\n",
    "axs[0].plot(losses)\n",
    "axs[0].set_ylim(0, 0.1)\n",
    "axs[0].set_title('Loss over time')\n",
    "\n",
    "\"\"\"\n",
    "    Samples:\n",
    "    设置采样步骤的数量为40。\n",
    "    创建一个随机初始化的噪声图像 x，并将其移动到指定的设备。\n",
    "    通过逐步减少噪声量来生成样本。\n",
    "    第二个子图显示生成的样本，并设置标题\n",
    "\"\"\"\n",
    "n_steps = 40\n",
    "x = torch.rand(64, 1, 28, 28).to(device)\n",
    "for i in range(n_steps):\n",
    "  noise_amount = torch.ones((x.shape[0], )).to(device) * (1-(i/n_steps)) # Starting high going low\n",
    "  with torch.no_grad():\n",
    "    pred = net(x, 0).sample\n",
    "  mix_factor = 1/(n_steps - i)\n",
    "  x = x*(1-mix_factor) + pred*mix_factor\n",
    "\n",
    "axs[1].imshow(torchvision.utils.make_grid(x.detach().cpu(), nrow=8)[0].clip(0, 1), cmap='Greys')\n",
    "axs[1].set_title('Generated Samples');"
   ]
  },
  {
   "cell_type": "code",
   "execution_count": null,
   "id": "ee944805-3186-49d0-b7e0-8717a39dc30c",
   "metadata": {},
   "outputs": [],
   "source": [
    "#??noise_scheduler.add_noise"
   ]
  },
  {
   "cell_type": "code",
   "execution_count": null,
   "id": "620b7825-a433-41ea-b0c8-37a012a49099",
   "metadata": {},
   "outputs": [],
   "source": [
    "noise_scheduler = DDPMScheduler(num_train_timesteps=1000)\n",
    "plt.plot(noise_scheduler.alphas_cumprod.cpu() ** 0.5, label=r\"${\\sqrt{\\bar{\\alpha}_t}}$\")\n",
    "plt.plot((1 - noise_scheduler.alphas_cumprod.cpu()) ** 0.5, label=r\"$\\sqrt{(1 - \\bar{\\alpha}_t)}$\")\n",
    "plt.legend(fontsize=\"x-large\");"
   ]
  },
  {
   "cell_type": "code",
   "execution_count": null,
   "id": "7f987703-2a26-413d-a77a-6124cf9f9b10",
   "metadata": {},
   "outputs": [],
   "source": [
    "# Noise a batch of images to view the effect\n",
    "fig, axs = plt.subplots(3, 1, figsize=(16, 10))\n",
    "xb, yb = next(iter(train_dataloader))\n",
    "xb = xb.to(device)[:8]\n",
    "xb = xb * 2. - 1. # Map to (-1, 1)\n",
    "print('X shape', xb.shape)\n",
    "\n",
    "# Show clean inputs\n",
    "axs[0].imshow(torchvision.utils.make_grid(xb[:8])[0].detach().cpu(), cmap='Greys')\n",
    "axs[0].set_title('Clean X')\n",
    "\n",
    "# Add noise with scheduler\n",
    "timesteps = torch.linspace(0, 999, 8).long().to(device)\n",
    "noise = torch.randn_like(xb) # << NB: randn not rand\n",
    "noisy_xb = noise_scheduler.add_noise(xb, noise, timesteps)\n",
    "print('Noisy X shape', noisy_xb.shape)\n",
    "\n",
    "# Show noisy version (with and without clipping)\n",
    "axs[1].imshow(torchvision.utils.make_grid(noisy_xb[:8])[0].detach().cpu().clip(-1, 1),  cmap='Greys')\n",
    "axs[1].set_title('Noisy X (clipped to (-1, 1)')\n",
    "axs[2].imshow(torchvision.utils.make_grid(noisy_xb[:8])[0].detach().cpu(),  cmap='Greys')\n",
    "axs[2].set_title('Noisy X');"
   ]
  },
  {
   "cell_type": "code",
   "execution_count": null,
   "id": "f24ca7ce-3e6f-4e53-b9e7-2b38c8d08e63",
   "metadata": {},
   "outputs": [],
   "source": []
  }
 ],
 "metadata": {
  "kernelspec": {
   "display_name": "Python 3 (ipykernel)",
   "language": "python",
   "name": "python3"
  },
  "language_info": {
   "codemirror_mode": {
    "name": "ipython",
    "version": 3
   },
   "file_extension": ".py",
   "mimetype": "text/x-python",
   "name": "python",
   "nbconvert_exporter": "python",
   "pygments_lexer": "ipython3",
   "version": "3.12.4"
  }
 },
 "nbformat": 4,
 "nbformat_minor": 5
}
